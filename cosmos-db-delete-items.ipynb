{
  "cells": [
    {
      "cell_type": "code",
      "execution_count": null,
      "metadata": {
        "jupyter": {
          "outputs_hidden": false,
          "source_hidden": false
        },
        "nteract": {
          "transient": {
            "deleting": false
          }
        }
      },
      "outputs": [],
      "source": [
        "# https://pypi.org/project/azure-cosmos/\n",
        "# https://azuresdkdocs.blob.core.windows.net/$web/python/azure-cosmos/4.0.0/azure.cosmos.html\n",
        "pip install azure-cosmos\n",
        "\n",
        "# Using the following test data: \n",
        "# https://raw.githubusercontent.com/AzureCosmosDB/labs/master/dotnet/setup/NutritionData.json"
      ]
    },
    {
      "cell_type": "code",
      "execution_count": null,
      "metadata": {
        "jupyter": {
          "outputs_hidden": false,
          "source_hidden": false
        },
        "nteract": {
          "transient": {
            "deleting": false
          }
        }
      },
      "outputs": [],
      "source": [
        "#\n",
        "# 1. Loop and delete\n",
        "# https://azuresdkdocs.blob.core.windows.net/$web/python/azure-cosmos/4.0.0/azure.cosmos.html#azure.cosmos.ContainerProxy.query_items\n",
        "#\n",
        "from azure.cosmos import CosmosClient, exceptions\n",
        "import json\n",
        "\n",
        "url = 'https://<account>.documents.azure.com:443/'\n",
        "key = '<key>'\n",
        "client = CosmosClient(url, credential=key)\n",
        "database_name = 'FoodTestDb'\n",
        "container_name = 'FoodCollection'\n",
        "\n",
        "database = client.get_database_client(database_name)\n",
        "container = database.get_container_client(container_name)\n",
        "\n",
        "# Prepare the query for fetching IDs for a specific partition key\n",
        "query_foodGroup = 'Pork Products'\n",
        "\n",
        "items = container.query_items(\n",
        "    query='SELECT f.id, f.foodGroup FROM FoodCollection f WHERE f.foodGroup = @foodGroup',\n",
        "    parameters=[\n",
        "        dict(name='@foodGroup', value=query_foodGroup )\n",
        "    ],\n",
        "    # enable_cross_partition_query – Allows sending of more than one request to execute the query in the Azure Cosmos DB service. \n",
        "    # More than one request is necessary if the query is not scoped to single partition key value.\n",
        "    enable_cross_partition_query=False\n",
        ")\n",
        "document_ids = [(item['id'], item['foodGroup']) for item in items]\n",
        "\n",
        "# loop over the fetched ids and remove them\n",
        "for document_id, partition_key in document_ids:\n",
        "    try:\n",
        "        response = container.delete_item(\n",
        "            item=document_id,\n",
        "            partition_key=partition_key\n",
        "        )\n",
        "        #print(f\"Deleted item with ID: {document_id} and Partition Key: {partition_key}.\")\n",
        "        print(f\"Deleted item with ID: {document_id} and Partition Key: {partition_key}.\")\n",
        "    except exceptions.CosmosHttpResponseError as e:\n",
        "        print(f\"Failed to delete item {document_id}. Status code: {e.status_code}. Error: {e.message}\")\n",
        "    except Exception as e:\n",
        "        print(f\"An error occurred while deleting item {document_id}: {e}\")"
      ]
    },
    {
      "cell_type": "code",
      "execution_count": null,
      "metadata": {
        "jupyter": {
          "outputs_hidden": false,
          "source_hidden": false
        },
        "nteract": {
          "transient": {
            "deleting": false
          }
        }
      },
      "outputs": [],
      "source": [
        "#\n",
        "# 2. Loop and delete using ThreadPoolExecutor to parallelize deletions \n",
        "#\n",
        "from azure.cosmos import CosmosClient, exceptions\n",
        "import json\n",
        "\n",
        "url = 'https://<account>.documents.azure.com:443/'\n",
        "key = '<key>'\n",
        "client = CosmosClient(url, credential=key)\n",
        "database_name = 'FoodTestDb'\n",
        "container_name = 'FoodCollection'\n",
        "\n",
        "database = client.get_database_client(database_name)\n",
        "container = database.get_container_client(container_name)\n",
        "\n",
        "# Prepare the query for fetching IDs for a specific partition key\n",
        "query_foodGroup = 'Snacks'\n",
        "\n",
        "items = container.query_items(\n",
        "    query='SELECT f.id, f.foodGroup FROM FoodCollection f WHERE f.foodGroup = @foodGroup',\n",
        "    parameters=[\n",
        "        dict(name='@foodGroup', value=query_foodGroup )\n",
        "    ],\n",
        "    enable_cross_partition_query=False\n",
        ")\n",
        "document_ids = [(item['id'], item['foodGroup']) for item in items]\n",
        "\n",
        "# Function to delete a document\n",
        "def delete_document(doc_id, partition_key):\n",
        "    try:\n",
        "        container.delete_item(item=doc_id, partition_key=partition_key)\n",
        "        return {\"id\": doc_id, \"status\": \"Deleted\"}\n",
        "    except exceptions.CosmosHttpResponseError as e:\n",
        "        return {\"id\": doc_id, \"status\": f\"Failed to delete: {str(e)}\"}\n",
        "\n",
        "# Perform batch deletion\n",
        "from concurrent.futures import ThreadPoolExecutor, as_completed\n",
        "\n",
        "# Use ThreadPoolExecutor to parallelize deletions\n",
        "with ThreadPoolExecutor(max_workers=10) as executor:\n",
        "    futures = [executor.submit(delete_document, doc_id, partition_key_value) for doc_id, partition_key_value in document_ids]\n",
        "    results = [future.result() for future in as_completed(futures)]\n",
        "\n",
        "# Check results\n",
        "print(results)"
      ]
    },
    {
      "cell_type": "code",
      "execution_count": null,
      "metadata": {
        "jupyter": {
          "outputs_hidden": false,
          "source_hidden": false
        },
        "nteract": {
          "transient": {
            "deleting": false
          }
        }
      },
      "outputs": [],
      "source": [
        "#\n",
        "# 3. Loop and tag TTL to 1 second \n",
        "#\n",
        "from azure.cosmos import CosmosClient, exceptions\n",
        "import json\n",
        "\n",
        "url = 'https://<account>.documents.azure.com:443/'\n",
        "key = '<key>'\n",
        "client = CosmosClient(url, credential=key)\n",
        "database_name = 'FoodTestDb'\n",
        "container_name = 'FoodCollection'\n",
        "\n",
        "database = client.get_database_client(database_name)\n",
        "container = database.get_container_client(container_name)\n",
        "\n",
        "# Prepare the query for fetching IDs for a specific partition key\n",
        "query_foodGroup = 'Baby Foods'\n",
        "\n",
        "items = container.query_items(\n",
        "    query='SELECT f.id, f.foodGroup FROM FoodCollection f WHERE f.foodGroup = @foodGroup',\n",
        "    parameters=[\n",
        "        dict(name='@foodGroup', value=query_foodGroup )\n",
        "    ],\n",
        "    enable_cross_partition_query=False\n",
        ")\n",
        "document_ids = [(item['id'], item['foodGroup']) for item in items]\n",
        "\n",
        "new_ttl = 1  # Set new TTL to 1 second\n",
        "\n",
        "for doc_id, part_key in document_ids:\n",
        "    try:\n",
        "        # Fetch the document\n",
        "        document = container.read_item(item=doc_id, partition_key=part_key)\n",
        "\n",
        "        # Modify the TTL in the document\n",
        "        document[\"ttl\"] = new_ttl\n",
        "\n",
        "        # Replace the updated document back into the container\n",
        "        updated_document = container.replace_item(item=doc_id, body=document)\n",
        "        print(f\"Successfully updated TTL for document ID {doc_id} to {new_ttl} seconds.\")\n",
        "\n",
        "    except Exception as e:\n",
        "        print(f\"Error updating document ID {doc_id}: {str(e)}\")"
      ]
    },
    {
      "cell_type": "markdown",
      "metadata": {},
      "source": [
        "**Using the Analytical Store**\n",
        "\n",
        "Below will require to have Analytical Store configured for the Cosmos DB collection.\n",
        "* What is it?: https://learn.microsoft.com/en-us/azure/cosmos-db/analytical-store-introduction\n",
        "* Get started: https://learn.microsoft.com/en-us/azure/cosmos-db/configure-synapse-link\n",
        "\n",
        "As a result of enabling this feature in test testup, in Synapse a linked service is created with the following name \"CosmosDBLSFoodTestDb\". \n",
        "First step is creating an Spark table to directly being able to query the data (alternative could be loading all the data into a dataframe)."
      ]
    },
    {
      "cell_type": "code",
      "execution_count": null,
      "metadata": {},
      "outputs": [],
      "source": [
        "%%sql\n",
        "create table foodCollection using cosmos.olap options (\n",
        "    spark.synapse.linkedService 'CosmosDBLSFoodTestDb',\n",
        "    spark.cosmos.container 'FoodCollection'\n",
        ")"
      ]
    },
    {
      "cell_type": "code",
      "execution_count": null,
      "metadata": {},
      "outputs": [],
      "source": [
        "# The goal here is to keep the latest 100 records for every foodGroup.\n",
        "# First identify the groups that have more then 100 records. Then use windowing functions to obtain the latest ids.\n",
        "result_df = spark.sql(\"\"\"\n",
        "    WITH RankedFoodGroups AS (\n",
        "        SELECT\n",
        "            fd.id,\n",
        "            fd.foodGroup,\n",
        "            ROW_NUMBER() OVER (PARTITION BY fd.foodGroup ORDER BY fd.id DESC) AS rank\n",
        "        FROM\n",
        "            foodCollection fd\n",
        "        JOIN (\n",
        "            SELECT foodGroup\n",
        "            FROM foodCollection\n",
        "            GROUP BY foodGroup\n",
        "            HAVING COUNT(*) > 100\n",
        "        ) AS filtered_groups ON fd.foodGroup = filtered_groups.foodGroup\n",
        "    )\n",
        "    SELECT id, foodGroup\n",
        "    FROM RankedFoodGroups\n",
        "    WHERE rank > 100\n",
        "    \"\"\")\n",
        "\n",
        "# Collect the IDs and foodGroups to a list\n",
        "ids_foodgroups_to_delete = result_df.collect()"
      ]
    },
    {
      "cell_type": "code",
      "execution_count": null,
      "metadata": {},
      "outputs": [],
      "source": [
        "\n",
        "from azure.cosmos import CosmosClient, exceptions\n",
        "import json\n",
        "\n",
        "url = 'https://<account>.documents.azure.com:443/'\n",
        "key = '<key>'\n",
        "client = CosmosClient(url, credential=key)\n",
        "database_name = 'FoodTestDb'\n",
        "container_name = 'FoodCollection'\n",
        "\n",
        "database = client.get_database_client(database_name)\n",
        "container = database.get_container_client(container_name)\n",
        "\n",
        "# Remove the ID's from the operational Cosmos DB data store\n",
        "for record in ids_foodgroups_to_delete:\n",
        "    try:\n",
        "        response = container.delete_item(\n",
        "            item=record.id,\n",
        "            partition_key=record.foodGroup\n",
        "        )\n",
        "        print(f\"Deleted item with ID: {record.id} and Partition Key: {record.foodGroup}.\")\n",
        "    except exceptions.CosmosHttpResponseError as e:\n",
        "        print(f\"Failed to delete item {record.id}. Status code: {e.status_code}. Error: {e.message}\")\n",
        "    except Exception as e:\n",
        "        print(f\"An error occurred while deleting item {record.id}: {e}\")\n"
      ]
    }
  ],
  "metadata": {
    "kernel_info": {
      "name": "synapse_pyspark"
    },
    "kernelspec": {
      "display_name": "Synapse PySpark",
      "language": "Python",
      "name": "synapse_pyspark"
    },
    "language_info": {
      "name": "python"
    },
    "save_output": false,
    "synapse_widget": {
      "state": {},
      "version": "0.1"
    }
  },
  "nbformat": 4,
  "nbformat_minor": 2
}
